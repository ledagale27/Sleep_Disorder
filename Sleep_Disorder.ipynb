{
 "cells": [
  {
   "cell_type": "markdown",
   "id": "b09222da-777f-4ba6-8d01-14af73522244",
   "metadata": {},
   "source": [
    "## Sleep Health and Lifestyle Dataset - Exploratory Data Analysis Project"
   ]
  },
  {
   "cell_type": "markdown",
   "id": "e69d8b30-8cd0-4b75-b6a7-d85f7dfd808c",
   "metadata": {},
   "source": [
    "###### Author: Leda Gale"
   ]
  },
  {
   "cell_type": "markdown",
   "id": "ac86f375-2989-4fec-9c61-2c1ca73d06a8",
   "metadata": {},
   "source": [
    "### Dataset General Information"
   ]
  },
  {
   "cell_type": "markdown",
   "id": "2e34c2bf-9ae5-4e5e-952e-5ea5cd3e46b8",
   "metadata": {},
   "source": [
    "Title: Sleep Health and Lifestyle\n",
    "\n",
    "Source: Figshare\n",
    "\n",
    "Version: 2\n",
    "\n",
    "Date: 13/12/2023\n",
    "\n",
    "License: (https://creativecommons.org/licenses/by/4.0/)"
   ]
  },
  {
   "cell_type": "markdown",
   "id": "b2b11b1e-c3b1-4efc-9bb6-db6c5f41c564",
   "metadata": {},
   "source": [
    "### Importing the dataset"
   ]
  },
  {
   "cell_type": "code",
   "execution_count": 13,
   "id": "463ca32c-4391-4461-86c4-94b38fb0f717",
   "metadata": {},
   "outputs": [],
   "source": [
    "#Importing libraries\n",
    "import pandas as pd\n",
    "import numpy as np"
   ]
  },
  {
   "cell_type": "code",
   "execution_count": 14,
   "id": "617bbb89-c967-48bf-8b96-701642dd95c5",
   "metadata": {},
   "outputs": [
    {
     "data": {
      "text/html": [
       "<div>\n",
       "<style scoped>\n",
       "    .dataframe tbody tr th:only-of-type {\n",
       "        vertical-align: middle;\n",
       "    }\n",
       "\n",
       "    .dataframe tbody tr th {\n",
       "        vertical-align: top;\n",
       "    }\n",
       "\n",
       "    .dataframe thead th {\n",
       "        text-align: right;\n",
       "    }\n",
       "</style>\n",
       "<table border=\"1\" class=\"dataframe\">\n",
       "  <thead>\n",
       "    <tr style=\"text-align: right;\">\n",
       "      <th></th>\n",
       "      <th>Person ID</th>\n",
       "      <th>Gender</th>\n",
       "      <th>Age</th>\n",
       "      <th>Occupation</th>\n",
       "      <th>Sleep Duration</th>\n",
       "      <th>Quality of Sleep</th>\n",
       "      <th>Physical Activity Level</th>\n",
       "      <th>Stress Level</th>\n",
       "      <th>BMI Category</th>\n",
       "      <th>Blood Pressure</th>\n",
       "      <th>Heart Rate</th>\n",
       "      <th>Daily Steps</th>\n",
       "      <th>Sleep Disorder</th>\n",
       "    </tr>\n",
       "  </thead>\n",
       "  <tbody>\n",
       "    <tr>\n",
       "      <th>0</th>\n",
       "      <td>374</td>\n",
       "      <td>Female</td>\n",
       "      <td>59</td>\n",
       "      <td>Nurse</td>\n",
       "      <td>8.1</td>\n",
       "      <td>9</td>\n",
       "      <td>75</td>\n",
       "      <td>3</td>\n",
       "      <td>Overweight</td>\n",
       "      <td>140/95</td>\n",
       "      <td>68</td>\n",
       "      <td>7000</td>\n",
       "      <td>Sleep Apnea</td>\n",
       "    </tr>\n",
       "    <tr>\n",
       "      <th>1</th>\n",
       "      <td>375</td>\n",
       "      <td>Male</td>\n",
       "      <td>29</td>\n",
       "      <td>Doctor</td>\n",
       "      <td>7.8</td>\n",
       "      <td>7</td>\n",
       "      <td>75</td>\n",
       "      <td>6</td>\n",
       "      <td>Normal</td>\n",
       "      <td>120/80</td>\n",
       "      <td>70</td>\n",
       "      <td>8000</td>\n",
       "      <td>NaN</td>\n",
       "    </tr>\n",
       "    <tr>\n",
       "      <th>2</th>\n",
       "      <td>376</td>\n",
       "      <td>Male</td>\n",
       "      <td>29</td>\n",
       "      <td>Doctor</td>\n",
       "      <td>7.8</td>\n",
       "      <td>7</td>\n",
       "      <td>75</td>\n",
       "      <td>6</td>\n",
       "      <td>Normal</td>\n",
       "      <td>120/80</td>\n",
       "      <td>70</td>\n",
       "      <td>8000</td>\n",
       "      <td>NaN</td>\n",
       "    </tr>\n",
       "    <tr>\n",
       "      <th>3</th>\n",
       "      <td>377</td>\n",
       "      <td>Male</td>\n",
       "      <td>29</td>\n",
       "      <td>Doctor</td>\n",
       "      <td>6.1</td>\n",
       "      <td>6</td>\n",
       "      <td>30</td>\n",
       "      <td>8</td>\n",
       "      <td>Normal</td>\n",
       "      <td>120/80</td>\n",
       "      <td>70</td>\n",
       "      <td>8000</td>\n",
       "      <td>NaN</td>\n",
       "    </tr>\n",
       "    <tr>\n",
       "      <th>4</th>\n",
       "      <td>378</td>\n",
       "      <td>Male</td>\n",
       "      <td>29</td>\n",
       "      <td>Doctor</td>\n",
       "      <td>7.8</td>\n",
       "      <td>7</td>\n",
       "      <td>75</td>\n",
       "      <td>6</td>\n",
       "      <td>Normal</td>\n",
       "      <td>120/80</td>\n",
       "      <td>70</td>\n",
       "      <td>8000</td>\n",
       "      <td>NaN</td>\n",
       "    </tr>\n",
       "  </tbody>\n",
       "</table>\n",
       "</div>"
      ],
      "text/plain": [
       "   Person ID  Gender  Age Occupation  Sleep Duration  Quality of Sleep  \\\n",
       "0        374  Female   59      Nurse             8.1                 9   \n",
       "1        375    Male   29     Doctor             7.8                 7   \n",
       "2        376    Male   29     Doctor             7.8                 7   \n",
       "3        377    Male   29     Doctor             6.1                 6   \n",
       "4        378    Male   29     Doctor             7.8                 7   \n",
       "\n",
       "   Physical Activity Level  Stress Level BMI Category Blood Pressure  \\\n",
       "0                       75             3   Overweight         140/95   \n",
       "1                       75             6       Normal         120/80   \n",
       "2                       75             6       Normal         120/80   \n",
       "3                       30             8       Normal         120/80   \n",
       "4                       75             6       Normal         120/80   \n",
       "\n",
       "   Heart Rate  Daily Steps Sleep Disorder  \n",
       "0          68         7000    Sleep Apnea  \n",
       "1          70         8000            NaN  \n",
       "2          70         8000            NaN  \n",
       "3          70         8000            NaN  \n",
       "4          70         8000            NaN  "
      ]
     },
     "execution_count": 14,
     "metadata": {},
     "output_type": "execute_result"
    }
   ],
   "source": [
    "#Importing the dataset\n",
    "df = pd.read_csv(\"Sleep_health.csv\")\n",
    "\n",
    "#General review of the features included on the dataset\n",
    "df.head()"
   ]
  },
  {
   "cell_type": "code",
   "execution_count": 20,
   "id": "d17d0c90-3e84-4b66-ac56-6c70d18cfa14",
   "metadata": {},
   "outputs": [
    {
     "data": {
      "text/html": [
       "<div>\n",
       "<style scoped>\n",
       "    .dataframe tbody tr th:only-of-type {\n",
       "        vertical-align: middle;\n",
       "    }\n",
       "\n",
       "    .dataframe tbody tr th {\n",
       "        vertical-align: top;\n",
       "    }\n",
       "\n",
       "    .dataframe thead th {\n",
       "        text-align: right;\n",
       "    }\n",
       "</style>\n",
       "<table border=\"1\" class=\"dataframe\">\n",
       "  <thead>\n",
       "    <tr style=\"text-align: right;\">\n",
       "      <th></th>\n",
       "      <th>Person ID</th>\n",
       "      <th>Gender</th>\n",
       "      <th>Age</th>\n",
       "      <th>Occupation</th>\n",
       "      <th>Sleep Duration</th>\n",
       "      <th>Quality of Sleep</th>\n",
       "      <th>Physical Activity Level</th>\n",
       "      <th>Stress Level</th>\n",
       "      <th>BMI Category</th>\n",
       "      <th>Blood Pressure</th>\n",
       "      <th>Heart Rate</th>\n",
       "      <th>Daily Steps</th>\n",
       "      <th>Sleep Disorder</th>\n",
       "    </tr>\n",
       "  </thead>\n",
       "  <tbody>\n",
       "    <tr>\n",
       "      <th>0</th>\n",
       "      <td>374</td>\n",
       "      <td>Female</td>\n",
       "      <td>59</td>\n",
       "      <td>Nurse</td>\n",
       "      <td>8.1</td>\n",
       "      <td>9</td>\n",
       "      <td>75</td>\n",
       "      <td>3</td>\n",
       "      <td>Overweight</td>\n",
       "      <td>140/95</td>\n",
       "      <td>68</td>\n",
       "      <td>7000</td>\n",
       "      <td>Sleep Apnea</td>\n",
       "    </tr>\n",
       "    <tr>\n",
       "      <th>1</th>\n",
       "      <td>375</td>\n",
       "      <td>Male</td>\n",
       "      <td>29</td>\n",
       "      <td>Doctor</td>\n",
       "      <td>7.8</td>\n",
       "      <td>7</td>\n",
       "      <td>75</td>\n",
       "      <td>6</td>\n",
       "      <td>Normal</td>\n",
       "      <td>120/80</td>\n",
       "      <td>70</td>\n",
       "      <td>8000</td>\n",
       "      <td>NaN</td>\n",
       "    </tr>\n",
       "    <tr>\n",
       "      <th>2</th>\n",
       "      <td>376</td>\n",
       "      <td>Male</td>\n",
       "      <td>29</td>\n",
       "      <td>Doctor</td>\n",
       "      <td>7.8</td>\n",
       "      <td>7</td>\n",
       "      <td>75</td>\n",
       "      <td>6</td>\n",
       "      <td>Normal</td>\n",
       "      <td>120/80</td>\n",
       "      <td>70</td>\n",
       "      <td>8000</td>\n",
       "      <td>NaN</td>\n",
       "    </tr>\n",
       "    <tr>\n",
       "      <th>3</th>\n",
       "      <td>377</td>\n",
       "      <td>Male</td>\n",
       "      <td>29</td>\n",
       "      <td>Doctor</td>\n",
       "      <td>6.1</td>\n",
       "      <td>6</td>\n",
       "      <td>30</td>\n",
       "      <td>8</td>\n",
       "      <td>Normal</td>\n",
       "      <td>120/80</td>\n",
       "      <td>70</td>\n",
       "      <td>8000</td>\n",
       "      <td>NaN</td>\n",
       "    </tr>\n",
       "    <tr>\n",
       "      <th>4</th>\n",
       "      <td>378</td>\n",
       "      <td>Male</td>\n",
       "      <td>29</td>\n",
       "      <td>Doctor</td>\n",
       "      <td>7.8</td>\n",
       "      <td>7</td>\n",
       "      <td>75</td>\n",
       "      <td>6</td>\n",
       "      <td>Normal</td>\n",
       "      <td>120/80</td>\n",
       "      <td>70</td>\n",
       "      <td>8000</td>\n",
       "      <td>NaN</td>\n",
       "    </tr>\n",
       "  </tbody>\n",
       "</table>\n",
       "</div>"
      ],
      "text/plain": [
       "   Person ID  Gender  Age Occupation  Sleep Duration  Quality of Sleep  \\\n",
       "0        374  Female   59      Nurse             8.1                 9   \n",
       "1        375    Male   29     Doctor             7.8                 7   \n",
       "2        376    Male   29     Doctor             7.8                 7   \n",
       "3        377    Male   29     Doctor             6.1                 6   \n",
       "4        378    Male   29     Doctor             7.8                 7   \n",
       "\n",
       "   Physical Activity Level  Stress Level BMI Category Blood Pressure  \\\n",
       "0                       75             3   Overweight         140/95   \n",
       "1                       75             6       Normal         120/80   \n",
       "2                       75             6       Normal         120/80   \n",
       "3                       30             8       Normal         120/80   \n",
       "4                       75             6       Normal         120/80   \n",
       "\n",
       "   Heart Rate  Daily Steps Sleep Disorder  \n",
       "0          68         7000    Sleep Apnea  \n",
       "1          70         8000            NaN  \n",
       "2          70         8000            NaN  \n",
       "3          70         8000            NaN  \n",
       "4          70         8000            NaN  "
      ]
     },
     "execution_count": 20,
     "metadata": {},
     "output_type": "execute_result"
    }
   ],
   "source": [
    "df.head()"
   ]
  },
  {
   "cell_type": "markdown",
   "id": "0301ca7a-cbf5-41fb-baef-8409d4c2273a",
   "metadata": {},
   "source": [
    "### Identifying dataset shape and attribute"
   ]
  },
  {
   "cell_type": "code",
   "execution_count": 15,
   "id": "46ce18b5-acaf-476e-9e45-9ad9ed283a50",
   "metadata": {},
   "outputs": [
    {
     "data": {
      "text/plain": [
       "(186, 13)"
      ]
     },
     "execution_count": 15,
     "metadata": {},
     "output_type": "execute_result"
    }
   ],
   "source": [
    "#Identifying the dataset shape\n",
    "df.shape"
   ]
  },
  {
   "cell_type": "markdown",
   "id": "966f7831-7ccd-4b4c-b446-b971ae056b36",
   "metadata": {},
   "source": [
    "The methods .head() and shape have been useful to explore which attributes are included in the dataset. A total of 13 attributes were identified with 186 entries or subjects of study. \n",
    "\n",
    "The attributes as indicated in the source are the following ones:\n",
    "1. Person ID: Identifier for each individual\n",
    "2. Gender: The gender of each person (Male/Female)\n",
    "3. Age: The age of the person in years\n",
    "4. Occupation: The occupation or profession of the person\n",
    "5. Sleep Duration (hours): The number of hours the person sleeps per day\n",
    "6. Quality of Sleep (scale 1-10): A subjective rating of the quality of sleep\n",
    "7. Physical Activity Level (minutes/day): The number of minutes the person engages in physical activity daily\n",
    "8. Stress Level (scale 1-10): A subjective rating of the stress level experienced by the person\n",
    "9. BMI Category: The BMI category of the person (Underweight, Normal, Overweight)\n",
    "10. Blood Pressure(systolic/diastolic): The blood pressure measurement of the person is indicated as systolic pressure over diastolic pressure.\n",
    "11. Daily steps: The number of steps the person takes per day.\n",
    "12. Heart rate (bpm): The resting heart rate of the person in beats per minute\n",
    "13. Sleep Disorder: The presence of a sleep disorder in the person (None, Insomnia, Sleep Apnea)"
   ]
  },
  {
   "cell_type": "markdown",
   "id": "dadc8a5d-cb90-4680-a059-dc83bf8513ad",
   "metadata": {},
   "source": [
    "### Checking on the datatypes"
   ]
  },
  {
   "cell_type": "code",
   "execution_count": 16,
   "id": "ec78c32e-4e92-4a5e-b691-b65c62b66807",
   "metadata": {},
   "outputs": [
    {
     "data": {
      "text/plain": [
       "Person ID                    int64\n",
       "Gender                      object\n",
       "Age                          int64\n",
       "Occupation                  object\n",
       "Sleep Duration             float64\n",
       "Quality of Sleep             int64\n",
       "Physical Activity Level      int64\n",
       "Stress Level                 int64\n",
       "BMI Category                object\n",
       "Blood Pressure              object\n",
       "Heart Rate                   int64\n",
       "Daily Steps                  int64\n",
       "Sleep Disorder              object\n",
       "dtype: object"
      ]
     },
     "execution_count": 16,
     "metadata": {},
     "output_type": "execute_result"
    }
   ],
   "source": [
    "df.dtypes"
   ]
  },
  {
   "cell_type": "code",
   "execution_count": 17,
   "id": "127308cf-98af-40cd-94cf-c2a9773b42a0",
   "metadata": {},
   "outputs": [
    {
     "name": "stdout",
     "output_type": "stream",
     "text": [
      "<class 'pandas.core.frame.DataFrame'>\n",
      "RangeIndex: 186 entries, 0 to 185\n",
      "Data columns (total 13 columns):\n",
      " #   Column                   Non-Null Count  Dtype  \n",
      "---  ------                   --------------  -----  \n",
      " 0   Person ID                186 non-null    int64  \n",
      " 1   Gender                   186 non-null    object \n",
      " 2   Age                      186 non-null    int64  \n",
      " 3   Occupation               186 non-null    object \n",
      " 4   Sleep Duration           186 non-null    float64\n",
      " 5   Quality of Sleep         186 non-null    int64  \n",
      " 6   Physical Activity Level  186 non-null    int64  \n",
      " 7   Stress Level             186 non-null    int64  \n",
      " 8   BMI Category             186 non-null    object \n",
      " 9   Blood Pressure           186 non-null    object \n",
      " 10  Heart Rate               186 non-null    int64  \n",
      " 11  Daily Steps              186 non-null    int64  \n",
      " 12  Sleep Disorder           30 non-null     object \n",
      "dtypes: float64(1), int64(7), object(5)\n",
      "memory usage: 19.0+ KB\n"
     ]
    }
   ],
   "source": [
    "#Searching for more information about the dataset\n",
    "df.info()"
   ]
  },
  {
   "cell_type": "code",
   "execution_count": 18,
   "id": "49cdabff-6de1-4996-b9a5-7c194d8af3fc",
   "metadata": {
    "scrolled": true
   },
   "outputs": [
    {
     "data": {
      "text/plain": [
       "Person ID                    0\n",
       "Gender                       0\n",
       "Age                          0\n",
       "Occupation                   0\n",
       "Sleep Duration               0\n",
       "Quality of Sleep             0\n",
       "Physical Activity Level      0\n",
       "Stress Level                 0\n",
       "BMI Category                 0\n",
       "Blood Pressure               0\n",
       "Heart Rate                   0\n",
       "Daily Steps                  0\n",
       "Sleep Disorder             156\n",
       "dtype: int64"
      ]
     },
     "execution_count": 18,
     "metadata": {},
     "output_type": "execute_result"
    }
   ],
   "source": [
    "#Null values revision\n",
    "df.isna().sum()"
   ]
  },
  {
   "cell_type": "markdown",
   "id": "c2b384e2-d04e-4522-b79c-3b8540832b83",
   "metadata": {},
   "source": [
    "#### Observations:"
   ]
  },
  {
   "cell_type": "markdown",
   "id": "5ef0455c-28c9-4bab-9f77-061fe38d7fb9",
   "metadata": {},
   "source": [
    "After using the method .info() and .isna() it can be seen the attribute sleep disorder shows as if it has 156 null values, however, after the glimpse on the dataset done before, it has been identified this are actually values with the label of \"Nan\" which means in this case the person does not suffer of any sleeping disorder. "
   ]
  },
  {
   "cell_type": "code",
   "execution_count": 25,
   "id": "816046a1-5513-4c5d-a5eb-8b8b5383e6e9",
   "metadata": {},
   "outputs": [
    {
     "data": {
      "text/plain": [
       "0      Sleep Apnea\n",
       "1          Nothing\n",
       "2          Nothing\n",
       "3          Nothing\n",
       "4          Nothing\n",
       "          ...     \n",
       "181       Insomnia\n",
       "182       Insomnia\n",
       "183       Insomnia\n",
       "184       Insomnia\n",
       "185       Insomnia\n",
       "Name: Sleep Disorder, Length: 186, dtype: object"
      ]
     },
     "execution_count": 25,
     "metadata": {},
     "output_type": "execute_result"
    }
   ],
   "source": [
    "df[\"Sleep Disorder\"].fillna('Nothing')"
   ]
  },
  {
   "cell_type": "code",
   "execution_count": 26,
   "id": "d87aefc4-73ea-4eaf-be8e-03df04faf422",
   "metadata": {},
   "outputs": [
    {
     "data": {
      "text/plain": [
       "0"
      ]
     },
     "execution_count": 26,
     "metadata": {},
     "output_type": "execute_result"
    }
   ],
   "source": [
    "df.duplicated().sum()"
   ]
  },
  {
   "cell_type": "code",
   "execution_count": 8,
   "id": "4c0b054f-0581-4e2e-bb23-d9e67b1b72a3",
   "metadata": {},
   "outputs": [
    {
     "name": "stdout",
     "output_type": "stream",
     "text": [
      "Empty DataFrame\n",
      "Columns: [Person ID, Gender, Age, Occupation, Sleep Duration, Quality of Sleep, Physical Activity Level, Stress Level, BMI Category, Blood Pressure, Heart Rate, Daily Steps, Sleep Disorder]\n",
      "Index: []\n"
     ]
    }
   ],
   "source": [
    "duplicates = df.duplicated(\"Person ID\")\n",
    "print(df[duplicates])"
   ]
  },
  {
   "cell_type": "markdown",
   "id": "b197a2de-e874-42c6-85f7-0def12aca34d",
   "metadata": {},
   "source": [
    "### Renaming variables for better understanding"
   ]
  },
  {
   "cell_type": "code",
   "execution_count": 10,
   "id": "a87dcb7d-4cb8-4275-b7ba-fb5e83511a9f",
   "metadata": {},
   "outputs": [],
   "source": [
    "df = df.rename(columns = {\"Sleep Duration\": \"Sleep_duration\", \"Quality of Sleep\": \"Sleeping_quality\", \"Physical Activity Level\": \"Activity_level\", \"Stress Level\": \"Stress_level\", \"BMI Category\": \"BMI\", \"Blood Pressure\": \"Blood_pressure\", \"Heart Rate\": \"Heart_rate\", \"Daily Steps\": \"Daily_steps\", \"Sleep Disorder\": \"Sleep_disorder\"})"
   ]
  },
  {
   "cell_type": "markdown",
   "id": "0aa99f4e-7cd4-477e-9c3c-2424a7e9494a",
   "metadata": {},
   "source": [
    "### Dropping unnecessary columns"
   ]
  },
  {
   "cell_type": "code",
   "execution_count": null,
   "id": "cdfa19d7-3709-478f-92a7-43e180d2f152",
   "metadata": {},
   "outputs": [],
   "source": [
    "df.drop(columns = [\"Person ID\"], inplace = True)\n",
    "df"
   ]
  },
  {
   "cell_type": "code",
   "execution_count": null,
   "id": "1f60fff3-d902-4888-bf53-9e79cf16bc7e",
   "metadata": {},
   "outputs": [],
   "source": []
  },
  {
   "cell_type": "code",
   "execution_count": null,
   "id": "08b74fa4-2c54-4b28-ac17-81df740e8c77",
   "metadata": {},
   "outputs": [],
   "source": [
    "print(f'Gender: {df[\"Gender\"].unique()}')\n",
    "print(f'Gender: {df[\"Gender\"].nunique()}')"
   ]
  },
  {
   "cell_type": "code",
   "execution_count": null,
   "id": "61782f76-334b-4d3c-9ff0-cf610dfd9f1a",
   "metadata": {},
   "outputs": [],
   "source": [
    "print(f'Age: {df[\"Age\"].unique()}')\n",
    "print(f'Age: {df[\"Age\"].nunique()}')"
   ]
  },
  {
   "cell_type": "code",
   "execution_count": null,
   "id": "774e4735-1d75-4a01-b242-2ad8c89a56ba",
   "metadata": {},
   "outputs": [],
   "source": [
    "print(f'Occupation: {df[\"Occupation\"].unique()}')\n",
    "print(f'Occupation: {df[\"Occupation\"].nunique()}')"
   ]
  },
  {
   "cell_type": "code",
   "execution_count": null,
   "id": "51af3eb3-aca9-4b90-af25-71f0ebfdeb77",
   "metadata": {},
   "outputs": [],
   "source": [
    "print(f'Sleep_duration: {df[\"Sleep_duration\"].unique()}')\n",
    "print(f'Sleep_duration: {df[\"Sleep_duration\"].nunique()}')"
   ]
  },
  {
   "cell_type": "code",
   "execution_count": null,
   "id": "8f808b58-5410-4b3c-b646-456b012d5156",
   "metadata": {},
   "outputs": [],
   "source": [
    "print(f'Sleeping_quality: {df[\"Sleeping_quality\"].unique()}')\n",
    "print(f'Sleeping_quality: {df[\"Sleeping_quality\"].nunique()}')"
   ]
  },
  {
   "cell_type": "code",
   "execution_count": null,
   "id": "9d4503d4-5515-4b96-9351-d5e979835127",
   "metadata": {},
   "outputs": [],
   "source": [
    "print(f'Activity_level: {df[\"Activity_level\"].unique()}')\n",
    "print(f'Activity_level: {df[\"Activity_level\"].nunique()}')"
   ]
  },
  {
   "cell_type": "code",
   "execution_count": null,
   "id": "47d08993-4d79-4791-a7c4-5bd46f8d521e",
   "metadata": {},
   "outputs": [],
   "source": [
    "print(f'Stress_level: {df[\"Stress_level\"].unique()}')\n",
    "print(f'Stress_level: {df[\"Stress_level\"].nunique()}')"
   ]
  },
  {
   "cell_type": "code",
   "execution_count": null,
   "id": "ea857810-49cd-4a2d-a484-0bbd01748405",
   "metadata": {},
   "outputs": [],
   "source": [
    "print(f'Sleeping_quality: {df[\"Sleeping_quality\"].unique()}')\n",
    "print(f'Sleeping_quality: {df[\"Sleeping_quality\"].nunique()}')"
   ]
  },
  {
   "cell_type": "code",
   "execution_count": null,
   "id": "41d8f3c6-121f-4cd0-91ac-3eeaef99dc68",
   "metadata": {},
   "outputs": [],
   "source": [
    "print(f'BMI: {df[\"BMI\"].unique()}')\n",
    "print(f'BMI: {df[\"BMI\"].nunique()}')"
   ]
  },
  {
   "cell_type": "code",
   "execution_count": null,
   "id": "3c9abccc-80ac-4afa-841e-73ce7c4005c6",
   "metadata": {},
   "outputs": [],
   "source": [
    "print(f'Daily_steps: {df[\"Daily_steps\"].unique()}')\n",
    "print(f'Daily_steps: {df[\"Daily_steps\"].nunique()}')"
   ]
  },
  {
   "cell_type": "code",
   "execution_count": 11,
   "id": "09057943-2db6-4bd5-80c3-f3f3eb6d9e08",
   "metadata": {},
   "outputs": [
    {
     "name": "stdout",
     "output_type": "stream",
     "text": [
      "Sleep_disorder: ['Sleep Apnea' nan 'Insomnia']\n",
      "Sleep_disorder: 2\n"
     ]
    }
   ],
   "source": [
    "print(f'Sleep_disorder: {df[\"Sleep_disorder\"].unique()}')\n",
    "print(f'Sleep_disorder: {df[\"Sleep_disorder\"].nunique()}')"
   ]
  },
  {
   "cell_type": "code",
   "execution_count": null,
   "id": "43ae960a-1a27-4fd3-8776-b6a0116deff4",
   "metadata": {},
   "outputs": [],
   "source": []
  },
  {
   "cell_type": "code",
   "execution_count": null,
   "id": "6a2a05a6-5e33-4a6b-9e83-1ee7002f4fa5",
   "metadata": {},
   "outputs": [],
   "source": []
  }
 ],
 "metadata": {
  "kernelspec": {
   "display_name": "Python 3 (ipykernel)",
   "language": "python",
   "name": "python3"
  },
  "language_info": {
   "codemirror_mode": {
    "name": "ipython",
    "version": 3
   },
   "file_extension": ".py",
   "mimetype": "text/x-python",
   "name": "python",
   "nbconvert_exporter": "python",
   "pygments_lexer": "ipython3",
   "version": "3.10.12"
  }
 },
 "nbformat": 4,
 "nbformat_minor": 5
}
