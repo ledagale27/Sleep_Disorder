{
 "cells": [
  {
   "cell_type": "markdown",
   "id": "b09222da-777f-4ba6-8d01-14af73522244",
   "metadata": {},
   "source": [
    "## Sleep Health and Lifestyle Dataset - Exploratory Data Analysis Project"
   ]
  },
  {
   "cell_type": "markdown",
   "id": "e69d8b30-8cd0-4b75-b6a7-d85f7dfd808c",
   "metadata": {},
   "source": [
    "###### Author: Leda Gale"
   ]
  },
  {
   "cell_type": "markdown",
   "id": "ac86f375-2989-4fec-9c61-2c1ca73d06a8",
   "metadata": {},
   "source": [
    "### Dataset General Information"
   ]
  },
  {
   "cell_type": "markdown",
   "id": "2e34c2bf-9ae5-4e5e-952e-5ea5cd3e46b8",
   "metadata": {},
   "source": [
    "Title: Sleep Health and Lifestyle\n",
    "\n",
    "Source: Figshare\n",
    "\n",
    "Version: 2\n",
    "\n",
    "Date: 13/12/2023\n",
    "\n",
    "License: (https://creativecommons.org/licenses/by/4.0/)"
   ]
  },
  {
   "cell_type": "markdown",
   "id": "b2b11b1e-c3b1-4efc-9bb6-db6c5f41c564",
   "metadata": {},
   "source": [
    "### Importing the dataset"
   ]
  },
  {
   "cell_type": "code",
   "execution_count": 1,
   "id": "463ca32c-4391-4461-86c4-94b38fb0f717",
   "metadata": {},
   "outputs": [],
   "source": [
    "#Importing libraries\n",
    "import pandas as pd\n",
    "import numpy as np"
   ]
  },
  {
   "cell_type": "code",
   "execution_count": 2,
   "id": "617bbb89-c967-48bf-8b96-701642dd95c5",
   "metadata": {},
   "outputs": [
    {
     "data": {
      "text/html": [
       "<div>\n",
       "<style scoped>\n",
       "    .dataframe tbody tr th:only-of-type {\n",
       "        vertical-align: middle;\n",
       "    }\n",
       "\n",
       "    .dataframe tbody tr th {\n",
       "        vertical-align: top;\n",
       "    }\n",
       "\n",
       "    .dataframe thead th {\n",
       "        text-align: right;\n",
       "    }\n",
       "</style>\n",
       "<table border=\"1\" class=\"dataframe\">\n",
       "  <thead>\n",
       "    <tr style=\"text-align: right;\">\n",
       "      <th></th>\n",
       "      <th>Person ID</th>\n",
       "      <th>Gender</th>\n",
       "      <th>Age</th>\n",
       "      <th>Occupation</th>\n",
       "      <th>Sleep Duration</th>\n",
       "      <th>Quality of Sleep</th>\n",
       "      <th>Physical Activity Level</th>\n",
       "      <th>Stress Level</th>\n",
       "      <th>BMI Category</th>\n",
       "      <th>Blood Pressure</th>\n",
       "      <th>Heart Rate</th>\n",
       "      <th>Daily Steps</th>\n",
       "      <th>Sleep Disorder</th>\n",
       "    </tr>\n",
       "  </thead>\n",
       "  <tbody>\n",
       "    <tr>\n",
       "      <th>0</th>\n",
       "      <td>374</td>\n",
       "      <td>Female</td>\n",
       "      <td>59</td>\n",
       "      <td>Nurse</td>\n",
       "      <td>8.1</td>\n",
       "      <td>9</td>\n",
       "      <td>75</td>\n",
       "      <td>3</td>\n",
       "      <td>Overweight</td>\n",
       "      <td>140/95</td>\n",
       "      <td>68</td>\n",
       "      <td>7000</td>\n",
       "      <td>Sleep Apnea</td>\n",
       "    </tr>\n",
       "    <tr>\n",
       "      <th>1</th>\n",
       "      <td>375</td>\n",
       "      <td>Male</td>\n",
       "      <td>29</td>\n",
       "      <td>Doctor</td>\n",
       "      <td>7.8</td>\n",
       "      <td>7</td>\n",
       "      <td>75</td>\n",
       "      <td>6</td>\n",
       "      <td>Normal</td>\n",
       "      <td>120/80</td>\n",
       "      <td>70</td>\n",
       "      <td>8000</td>\n",
       "      <td>NaN</td>\n",
       "    </tr>\n",
       "    <tr>\n",
       "      <th>2</th>\n",
       "      <td>376</td>\n",
       "      <td>Male</td>\n",
       "      <td>29</td>\n",
       "      <td>Doctor</td>\n",
       "      <td>7.8</td>\n",
       "      <td>7</td>\n",
       "      <td>75</td>\n",
       "      <td>6</td>\n",
       "      <td>Normal</td>\n",
       "      <td>120/80</td>\n",
       "      <td>70</td>\n",
       "      <td>8000</td>\n",
       "      <td>NaN</td>\n",
       "    </tr>\n",
       "    <tr>\n",
       "      <th>3</th>\n",
       "      <td>377</td>\n",
       "      <td>Male</td>\n",
       "      <td>29</td>\n",
       "      <td>Doctor</td>\n",
       "      <td>6.1</td>\n",
       "      <td>6</td>\n",
       "      <td>30</td>\n",
       "      <td>8</td>\n",
       "      <td>Normal</td>\n",
       "      <td>120/80</td>\n",
       "      <td>70</td>\n",
       "      <td>8000</td>\n",
       "      <td>NaN</td>\n",
       "    </tr>\n",
       "    <tr>\n",
       "      <th>4</th>\n",
       "      <td>378</td>\n",
       "      <td>Male</td>\n",
       "      <td>29</td>\n",
       "      <td>Doctor</td>\n",
       "      <td>7.8</td>\n",
       "      <td>7</td>\n",
       "      <td>75</td>\n",
       "      <td>6</td>\n",
       "      <td>Normal</td>\n",
       "      <td>120/80</td>\n",
       "      <td>70</td>\n",
       "      <td>8000</td>\n",
       "      <td>NaN</td>\n",
       "    </tr>\n",
       "  </tbody>\n",
       "</table>\n",
       "</div>"
      ],
      "text/plain": [
       "   Person ID  Gender  Age Occupation  Sleep Duration  Quality of Sleep  \\\n",
       "0        374  Female   59      Nurse             8.1                 9   \n",
       "1        375    Male   29     Doctor             7.8                 7   \n",
       "2        376    Male   29     Doctor             7.8                 7   \n",
       "3        377    Male   29     Doctor             6.1                 6   \n",
       "4        378    Male   29     Doctor             7.8                 7   \n",
       "\n",
       "   Physical Activity Level  Stress Level BMI Category Blood Pressure  \\\n",
       "0                       75             3   Overweight         140/95   \n",
       "1                       75             6       Normal         120/80   \n",
       "2                       75             6       Normal         120/80   \n",
       "3                       30             8       Normal         120/80   \n",
       "4                       75             6       Normal         120/80   \n",
       "\n",
       "   Heart Rate  Daily Steps Sleep Disorder  \n",
       "0          68         7000    Sleep Apnea  \n",
       "1          70         8000            NaN  \n",
       "2          70         8000            NaN  \n",
       "3          70         8000            NaN  \n",
       "4          70         8000            NaN  "
      ]
     },
     "execution_count": 2,
     "metadata": {},
     "output_type": "execute_result"
    }
   ],
   "source": [
    "#Importing the dataset\n",
    "df = pd.read_csv(\"Sleep_health.csv\")\n",
    "\n",
    "#General review of the features included on the dataset\n",
    "df.head()"
   ]
  },
  {
   "cell_type": "code",
   "execution_count": 3,
   "id": "d17d0c90-3e84-4b66-ac56-6c70d18cfa14",
   "metadata": {},
   "outputs": [
    {
     "data": {
      "text/html": [
       "<div>\n",
       "<style scoped>\n",
       "    .dataframe tbody tr th:only-of-type {\n",
       "        vertical-align: middle;\n",
       "    }\n",
       "\n",
       "    .dataframe tbody tr th {\n",
       "        vertical-align: top;\n",
       "    }\n",
       "\n",
       "    .dataframe thead th {\n",
       "        text-align: right;\n",
       "    }\n",
       "</style>\n",
       "<table border=\"1\" class=\"dataframe\">\n",
       "  <thead>\n",
       "    <tr style=\"text-align: right;\">\n",
       "      <th></th>\n",
       "      <th>Person ID</th>\n",
       "      <th>Gender</th>\n",
       "      <th>Age</th>\n",
       "      <th>Occupation</th>\n",
       "      <th>Sleep Duration</th>\n",
       "      <th>Quality of Sleep</th>\n",
       "      <th>Physical Activity Level</th>\n",
       "      <th>Stress Level</th>\n",
       "      <th>BMI Category</th>\n",
       "      <th>Blood Pressure</th>\n",
       "      <th>Heart Rate</th>\n",
       "      <th>Daily Steps</th>\n",
       "      <th>Sleep Disorder</th>\n",
       "    </tr>\n",
       "  </thead>\n",
       "  <tbody>\n",
       "    <tr>\n",
       "      <th>0</th>\n",
       "      <td>374</td>\n",
       "      <td>Female</td>\n",
       "      <td>59</td>\n",
       "      <td>Nurse</td>\n",
       "      <td>8.1</td>\n",
       "      <td>9</td>\n",
       "      <td>75</td>\n",
       "      <td>3</td>\n",
       "      <td>Overweight</td>\n",
       "      <td>140/95</td>\n",
       "      <td>68</td>\n",
       "      <td>7000</td>\n",
       "      <td>Sleep Apnea</td>\n",
       "    </tr>\n",
       "    <tr>\n",
       "      <th>1</th>\n",
       "      <td>375</td>\n",
       "      <td>Male</td>\n",
       "      <td>29</td>\n",
       "      <td>Doctor</td>\n",
       "      <td>7.8</td>\n",
       "      <td>7</td>\n",
       "      <td>75</td>\n",
       "      <td>6</td>\n",
       "      <td>Normal</td>\n",
       "      <td>120/80</td>\n",
       "      <td>70</td>\n",
       "      <td>8000</td>\n",
       "      <td>NaN</td>\n",
       "    </tr>\n",
       "    <tr>\n",
       "      <th>2</th>\n",
       "      <td>376</td>\n",
       "      <td>Male</td>\n",
       "      <td>29</td>\n",
       "      <td>Doctor</td>\n",
       "      <td>7.8</td>\n",
       "      <td>7</td>\n",
       "      <td>75</td>\n",
       "      <td>6</td>\n",
       "      <td>Normal</td>\n",
       "      <td>120/80</td>\n",
       "      <td>70</td>\n",
       "      <td>8000</td>\n",
       "      <td>NaN</td>\n",
       "    </tr>\n",
       "    <tr>\n",
       "      <th>3</th>\n",
       "      <td>377</td>\n",
       "      <td>Male</td>\n",
       "      <td>29</td>\n",
       "      <td>Doctor</td>\n",
       "      <td>6.1</td>\n",
       "      <td>6</td>\n",
       "      <td>30</td>\n",
       "      <td>8</td>\n",
       "      <td>Normal</td>\n",
       "      <td>120/80</td>\n",
       "      <td>70</td>\n",
       "      <td>8000</td>\n",
       "      <td>NaN</td>\n",
       "    </tr>\n",
       "    <tr>\n",
       "      <th>4</th>\n",
       "      <td>378</td>\n",
       "      <td>Male</td>\n",
       "      <td>29</td>\n",
       "      <td>Doctor</td>\n",
       "      <td>7.8</td>\n",
       "      <td>7</td>\n",
       "      <td>75</td>\n",
       "      <td>6</td>\n",
       "      <td>Normal</td>\n",
       "      <td>120/80</td>\n",
       "      <td>70</td>\n",
       "      <td>8000</td>\n",
       "      <td>NaN</td>\n",
       "    </tr>\n",
       "  </tbody>\n",
       "</table>\n",
       "</div>"
      ],
      "text/plain": [
       "   Person ID  Gender  Age Occupation  Sleep Duration  Quality of Sleep  \\\n",
       "0        374  Female   59      Nurse             8.1                 9   \n",
       "1        375    Male   29     Doctor             7.8                 7   \n",
       "2        376    Male   29     Doctor             7.8                 7   \n",
       "3        377    Male   29     Doctor             6.1                 6   \n",
       "4        378    Male   29     Doctor             7.8                 7   \n",
       "\n",
       "   Physical Activity Level  Stress Level BMI Category Blood Pressure  \\\n",
       "0                       75             3   Overweight         140/95   \n",
       "1                       75             6       Normal         120/80   \n",
       "2                       75             6       Normal         120/80   \n",
       "3                       30             8       Normal         120/80   \n",
       "4                       75             6       Normal         120/80   \n",
       "\n",
       "   Heart Rate  Daily Steps Sleep Disorder  \n",
       "0          68         7000    Sleep Apnea  \n",
       "1          70         8000            NaN  \n",
       "2          70         8000            NaN  \n",
       "3          70         8000            NaN  \n",
       "4          70         8000            NaN  "
      ]
     },
     "execution_count": 3,
     "metadata": {},
     "output_type": "execute_result"
    }
   ],
   "source": [
    "df.head()"
   ]
  },
  {
   "cell_type": "markdown",
   "id": "0301ca7a-cbf5-41fb-baef-8409d4c2273a",
   "metadata": {},
   "source": [
    "### Identifying dataset shape and attribute"
   ]
  },
  {
   "cell_type": "code",
   "execution_count": 4,
   "id": "46ce18b5-acaf-476e-9e45-9ad9ed283a50",
   "metadata": {},
   "outputs": [
    {
     "data": {
      "text/plain": [
       "(186, 13)"
      ]
     },
     "execution_count": 4,
     "metadata": {},
     "output_type": "execute_result"
    }
   ],
   "source": [
    "#Identifying the dataset shape\n",
    "df.shape"
   ]
  },
  {
   "cell_type": "markdown",
   "id": "966f7831-7ccd-4b4c-b446-b971ae056b36",
   "metadata": {},
   "source": [
    "The methods .head() and shape have been useful to explore which attributes are included in the dataset. A total of 13 attributes were identified with 186 entries or subjects of study. \n",
    "\n",
    "The attributes as indicated in the source are the following ones:\n",
    "1. Person ID: Identifier for each individual\n",
    "2. Gender: The gender of each person (Male/Female)\n",
    "3. Age: The age of the person in years\n",
    "4. Occupation: The occupation or profession of the person\n",
    "5. Sleep Duration (hours): The number of hours the person sleeps per day\n",
    "6. Quality of Sleep (scale 1-10): A subjective rating of the quality of sleep\n",
    "7. Physical Activity Level (minutes/day): The number of minutes the person engages in physical activity daily\n",
    "8. Stress Level (scale 1-10): A subjective rating of the stress level experienced by the person\n",
    "9. BMI Category: The BMI category of the person (Underweight, Normal, Overweight)\n",
    "10. Blood Pressure(systolic/diastolic): The blood pressure measurement of the person is indicated as systolic pressure over diastolic pressure.\n",
    "11. Daily steps: The number of steps the person takes per day.\n",
    "12. Heart rate (bpm): The resting heart rate of the person in beats per minute\n",
    "13. Sleep Disorder: The presence of a sleep disorder in the person (None, Insomnia, Sleep Apnea)"
   ]
  },
  {
   "cell_type": "markdown",
   "id": "dadc8a5d-cb90-4680-a059-dc83bf8513ad",
   "metadata": {},
   "source": [
    "### Checking on the data types and null values on the datafame"
   ]
  },
  {
   "cell_type": "code",
   "execution_count": 6,
   "id": "127308cf-98af-40cd-94cf-c2a9773b42a0",
   "metadata": {},
   "outputs": [
    {
     "name": "stdout",
     "output_type": "stream",
     "text": [
      "<class 'pandas.core.frame.DataFrame'>\n",
      "RangeIndex: 186 entries, 0 to 185\n",
      "Data columns (total 13 columns):\n",
      " #   Column                   Non-Null Count  Dtype  \n",
      "---  ------                   --------------  -----  \n",
      " 0   Person ID                186 non-null    int64  \n",
      " 1   Gender                   186 non-null    object \n",
      " 2   Age                      186 non-null    int64  \n",
      " 3   Occupation               186 non-null    object \n",
      " 4   Sleep Duration           186 non-null    float64\n",
      " 5   Quality of Sleep         186 non-null    int64  \n",
      " 6   Physical Activity Level  186 non-null    int64  \n",
      " 7   Stress Level             186 non-null    int64  \n",
      " 8   BMI Category             186 non-null    object \n",
      " 9   Blood Pressure           186 non-null    object \n",
      " 10  Heart Rate               186 non-null    int64  \n",
      " 11  Daily Steps              186 non-null    int64  \n",
      " 12  Sleep Disorder           30 non-null     object \n",
      "dtypes: float64(1), int64(7), object(5)\n",
      "memory usage: 19.0+ KB\n"
     ]
    }
   ],
   "source": [
    "#Searching for more information about the dataset\n",
    "df.info()"
   ]
  },
  {
   "cell_type": "code",
   "execution_count": 7,
   "id": "49cdabff-6de1-4996-b9a5-7c194d8af3fc",
   "metadata": {
    "scrolled": true
   },
   "outputs": [
    {
     "data": {
      "text/plain": [
       "Person ID                    0\n",
       "Gender                       0\n",
       "Age                          0\n",
       "Occupation                   0\n",
       "Sleep Duration               0\n",
       "Quality of Sleep             0\n",
       "Physical Activity Level      0\n",
       "Stress Level                 0\n",
       "BMI Category                 0\n",
       "Blood Pressure               0\n",
       "Heart Rate                   0\n",
       "Daily Steps                  0\n",
       "Sleep Disorder             156\n",
       "dtype: int64"
      ]
     },
     "execution_count": 7,
     "metadata": {},
     "output_type": "execute_result"
    }
   ],
   "source": [
    "#Null values revision\n",
    "df.isna().sum()"
   ]
  },
  {
   "cell_type": "markdown",
   "id": "c2b384e2-d04e-4522-b79c-3b8540832b83",
   "metadata": {},
   "source": [
    "#### Observations:"
   ]
  },
  {
   "cell_type": "markdown",
   "id": "5ef0455c-28c9-4bab-9f77-061fe38d7fb9",
   "metadata": {},
   "source": [
    "After using the method .info() and .isna() it can be seen the attribute sleep disorder shows as if it has 156 null values, however, after the glimpse on the dataset done before, it has been identified these are actually values with the label of \"Nan\" which means in this case the person does not suffer of any sleeping disorder. \n",
    "To deal with these values, the \"Nan\" label will be replaced by \"Nothing,\" which is not classified as a missing value and can be used for further analysis."
   ]
  },
  {
   "cell_type": "code",
   "execution_count": 10,
   "id": "8ec3c02e-edca-4265-8937-a09edca34162",
   "metadata": {},
   "outputs": [],
   "source": [
    "df.fillna({\"Sleep Disorder\": \"Nothing\"},inplace = True)"
   ]
  },
  {
   "cell_type": "code",
   "execution_count": 11,
   "id": "261b53aa-3832-43ca-a331-48a1543bea3e",
   "metadata": {
    "scrolled": true
   },
   "outputs": [
    {
     "data": {
      "text/plain": [
       "Person ID                  0\n",
       "Gender                     0\n",
       "Age                        0\n",
       "Occupation                 0\n",
       "Sleep Duration             0\n",
       "Quality of Sleep           0\n",
       "Physical Activity Level    0\n",
       "Stress Level               0\n",
       "BMI Category               0\n",
       "Blood Pressure             0\n",
       "Heart Rate                 0\n",
       "Daily Steps                0\n",
       "Sleep Disorder             0\n",
       "dtype: int64"
      ]
     },
     "execution_count": 11,
     "metadata": {},
     "output_type": "execute_result"
    }
   ],
   "source": [
    "#Null values revision\n",
    "df.isna().sum()"
   ]
  },
  {
   "cell_type": "markdown",
   "id": "40d70437-e26e-4e12-a05b-24fa8fbbf20b",
   "metadata": {},
   "source": [
    "### Checking for duplicates"
   ]
  },
  {
   "cell_type": "markdown",
   "id": "b197a2de-e874-42c6-85f7-0def12aca34d",
   "metadata": {},
   "source": [
    "### Renaming variables for better understanding"
   ]
  },
  {
   "cell_type": "code",
   "execution_count": 15,
   "id": "d87aefc4-73ea-4eaf-be8e-03df04faf422",
   "metadata": {
    "scrolled": true
   },
   "outputs": [
    {
     "data": {
      "text/plain": [
       "0"
      ]
     },
     "execution_count": 15,
     "metadata": {},
     "output_type": "execute_result"
    }
   ],
   "source": [
    "df.duplicated().sum()"
   ]
  },
  {
   "cell_type": "code",
   "execution_count": 16,
   "id": "a87dcb7d-4cb8-4275-b7ba-fb5e83511a9f",
   "metadata": {},
   "outputs": [],
   "source": [
    "df = df.rename(columns = {\"Sleep Duration\": \"Sleep_duration\", \"Quality of Sleep\": \"Sleeping_quality\", \"Physical Activity Level\": \"Activity_level\", \"Stress Level\": \"Stress_level\", \"BMI Category\": \"BMI\", \"Blood Pressure\": \"Blood_pressure\", \"Heart Rate\": \"Heart_rate\", \"Daily Steps\": \"Daily_steps\", \"Sleep Disorder\": \"Sleep_disorder\"})"
   ]
  },
  {
   "cell_type": "markdown",
   "id": "0aa99f4e-7cd4-477e-9c3c-2424a7e9494a",
   "metadata": {},
   "source": [
    "### Dropping unnecessary columns"
   ]
  },
  {
   "cell_type": "code",
   "execution_count": 17,
   "id": "cdfa19d7-3709-478f-92a7-43e180d2f152",
   "metadata": {},
   "outputs": [
    {
     "data": {
      "text/html": [
       "<div>\n",
       "<style scoped>\n",
       "    .dataframe tbody tr th:only-of-type {\n",
       "        vertical-align: middle;\n",
       "    }\n",
       "\n",
       "    .dataframe tbody tr th {\n",
       "        vertical-align: top;\n",
       "    }\n",
       "\n",
       "    .dataframe thead th {\n",
       "        text-align: right;\n",
       "    }\n",
       "</style>\n",
       "<table border=\"1\" class=\"dataframe\">\n",
       "  <thead>\n",
       "    <tr style=\"text-align: right;\">\n",
       "      <th></th>\n",
       "      <th>Gender</th>\n",
       "      <th>Age</th>\n",
       "      <th>Occupation</th>\n",
       "      <th>Sleep_duration</th>\n",
       "      <th>Sleeping_quality</th>\n",
       "      <th>Activity_level</th>\n",
       "      <th>Stress_level</th>\n",
       "      <th>BMI</th>\n",
       "      <th>Blood_pressure</th>\n",
       "      <th>Heart_rate</th>\n",
       "      <th>Daily_steps</th>\n",
       "      <th>Sleep_disorder</th>\n",
       "    </tr>\n",
       "  </thead>\n",
       "  <tbody>\n",
       "    <tr>\n",
       "      <th>0</th>\n",
       "      <td>Female</td>\n",
       "      <td>59</td>\n",
       "      <td>Nurse</td>\n",
       "      <td>8.1</td>\n",
       "      <td>9</td>\n",
       "      <td>75</td>\n",
       "      <td>3</td>\n",
       "      <td>Overweight</td>\n",
       "      <td>140/95</td>\n",
       "      <td>68</td>\n",
       "      <td>7000</td>\n",
       "      <td>Sleep Apnea</td>\n",
       "    </tr>\n",
       "    <tr>\n",
       "      <th>1</th>\n",
       "      <td>Male</td>\n",
       "      <td>29</td>\n",
       "      <td>Doctor</td>\n",
       "      <td>7.8</td>\n",
       "      <td>7</td>\n",
       "      <td>75</td>\n",
       "      <td>6</td>\n",
       "      <td>Normal</td>\n",
       "      <td>120/80</td>\n",
       "      <td>70</td>\n",
       "      <td>8000</td>\n",
       "      <td>Nothing</td>\n",
       "    </tr>\n",
       "    <tr>\n",
       "      <th>2</th>\n",
       "      <td>Male</td>\n",
       "      <td>29</td>\n",
       "      <td>Doctor</td>\n",
       "      <td>7.8</td>\n",
       "      <td>7</td>\n",
       "      <td>75</td>\n",
       "      <td>6</td>\n",
       "      <td>Normal</td>\n",
       "      <td>120/80</td>\n",
       "      <td>70</td>\n",
       "      <td>8000</td>\n",
       "      <td>Nothing</td>\n",
       "    </tr>\n",
       "    <tr>\n",
       "      <th>3</th>\n",
       "      <td>Male</td>\n",
       "      <td>29</td>\n",
       "      <td>Doctor</td>\n",
       "      <td>6.1</td>\n",
       "      <td>6</td>\n",
       "      <td>30</td>\n",
       "      <td>8</td>\n",
       "      <td>Normal</td>\n",
       "      <td>120/80</td>\n",
       "      <td>70</td>\n",
       "      <td>8000</td>\n",
       "      <td>Nothing</td>\n",
       "    </tr>\n",
       "    <tr>\n",
       "      <th>4</th>\n",
       "      <td>Male</td>\n",
       "      <td>29</td>\n",
       "      <td>Doctor</td>\n",
       "      <td>7.8</td>\n",
       "      <td>7</td>\n",
       "      <td>75</td>\n",
       "      <td>6</td>\n",
       "      <td>Normal</td>\n",
       "      <td>120/80</td>\n",
       "      <td>70</td>\n",
       "      <td>8000</td>\n",
       "      <td>Nothing</td>\n",
       "    </tr>\n",
       "    <tr>\n",
       "      <th>...</th>\n",
       "      <td>...</td>\n",
       "      <td>...</td>\n",
       "      <td>...</td>\n",
       "      <td>...</td>\n",
       "      <td>...</td>\n",
       "      <td>...</td>\n",
       "      <td>...</td>\n",
       "      <td>...</td>\n",
       "      <td>...</td>\n",
       "      <td>...</td>\n",
       "      <td>...</td>\n",
       "      <td>...</td>\n",
       "    </tr>\n",
       "    <tr>\n",
       "      <th>181</th>\n",
       "      <td>Female</td>\n",
       "      <td>43</td>\n",
       "      <td>Teacher</td>\n",
       "      <td>6.7</td>\n",
       "      <td>7</td>\n",
       "      <td>45</td>\n",
       "      <td>4</td>\n",
       "      <td>Overweight</td>\n",
       "      <td>135/90</td>\n",
       "      <td>65</td>\n",
       "      <td>6000</td>\n",
       "      <td>Insomnia</td>\n",
       "    </tr>\n",
       "    <tr>\n",
       "      <th>182</th>\n",
       "      <td>Male</td>\n",
       "      <td>43</td>\n",
       "      <td>Salesperson</td>\n",
       "      <td>6.5</td>\n",
       "      <td>6</td>\n",
       "      <td>45</td>\n",
       "      <td>7</td>\n",
       "      <td>Overweight</td>\n",
       "      <td>130/85</td>\n",
       "      <td>72</td>\n",
       "      <td>6000</td>\n",
       "      <td>Insomnia</td>\n",
       "    </tr>\n",
       "    <tr>\n",
       "      <th>183</th>\n",
       "      <td>Female</td>\n",
       "      <td>43</td>\n",
       "      <td>Teacher</td>\n",
       "      <td>6.7</td>\n",
       "      <td>7</td>\n",
       "      <td>45</td>\n",
       "      <td>4</td>\n",
       "      <td>Overweight</td>\n",
       "      <td>135/90</td>\n",
       "      <td>65</td>\n",
       "      <td>6000</td>\n",
       "      <td>Insomnia</td>\n",
       "    </tr>\n",
       "    <tr>\n",
       "      <th>184</th>\n",
       "      <td>Male</td>\n",
       "      <td>43</td>\n",
       "      <td>Salesperson</td>\n",
       "      <td>6.4</td>\n",
       "      <td>6</td>\n",
       "      <td>45</td>\n",
       "      <td>7</td>\n",
       "      <td>Overweight</td>\n",
       "      <td>130/85</td>\n",
       "      <td>72</td>\n",
       "      <td>6000</td>\n",
       "      <td>Insomnia</td>\n",
       "    </tr>\n",
       "    <tr>\n",
       "      <th>185</th>\n",
       "      <td>Male</td>\n",
       "      <td>43</td>\n",
       "      <td>Salesperson</td>\n",
       "      <td>6.5</td>\n",
       "      <td>6</td>\n",
       "      <td>45</td>\n",
       "      <td>7</td>\n",
       "      <td>Overweight</td>\n",
       "      <td>130/85</td>\n",
       "      <td>72</td>\n",
       "      <td>6000</td>\n",
       "      <td>Insomnia</td>\n",
       "    </tr>\n",
       "  </tbody>\n",
       "</table>\n",
       "<p>186 rows × 12 columns</p>\n",
       "</div>"
      ],
      "text/plain": [
       "     Gender  Age   Occupation  Sleep_duration  Sleeping_quality  \\\n",
       "0    Female   59        Nurse             8.1                 9   \n",
       "1      Male   29       Doctor             7.8                 7   \n",
       "2      Male   29       Doctor             7.8                 7   \n",
       "3      Male   29       Doctor             6.1                 6   \n",
       "4      Male   29       Doctor             7.8                 7   \n",
       "..      ...  ...          ...             ...               ...   \n",
       "181  Female   43      Teacher             6.7                 7   \n",
       "182    Male   43  Salesperson             6.5                 6   \n",
       "183  Female   43      Teacher             6.7                 7   \n",
       "184    Male   43  Salesperson             6.4                 6   \n",
       "185    Male   43  Salesperson             6.5                 6   \n",
       "\n",
       "     Activity_level  Stress_level         BMI Blood_pressure  Heart_rate  \\\n",
       "0                75             3  Overweight         140/95          68   \n",
       "1                75             6      Normal         120/80          70   \n",
       "2                75             6      Normal         120/80          70   \n",
       "3                30             8      Normal         120/80          70   \n",
       "4                75             6      Normal         120/80          70   \n",
       "..              ...           ...         ...            ...         ...   \n",
       "181              45             4  Overweight         135/90          65   \n",
       "182              45             7  Overweight         130/85          72   \n",
       "183              45             4  Overweight         135/90          65   \n",
       "184              45             7  Overweight         130/85          72   \n",
       "185              45             7  Overweight         130/85          72   \n",
       "\n",
       "     Daily_steps Sleep_disorder  \n",
       "0           7000    Sleep Apnea  \n",
       "1           8000        Nothing  \n",
       "2           8000        Nothing  \n",
       "3           8000        Nothing  \n",
       "4           8000        Nothing  \n",
       "..           ...            ...  \n",
       "181         6000       Insomnia  \n",
       "182         6000       Insomnia  \n",
       "183         6000       Insomnia  \n",
       "184         6000       Insomnia  \n",
       "185         6000       Insomnia  \n",
       "\n",
       "[186 rows x 12 columns]"
      ]
     },
     "execution_count": 17,
     "metadata": {},
     "output_type": "execute_result"
    }
   ],
   "source": [
    "df.drop(columns = [\"Person ID\"], inplace = True)\n",
    "df"
   ]
  },
  {
   "cell_type": "markdown",
   "id": "3bbe8238-d74f-42a2-ac12-11c59cbeb307",
   "metadata": {},
   "source": [
    "### Getting further information on relevant attributes"
   ]
  },
  {
   "cell_type": "code",
   "execution_count": 18,
   "id": "08b74fa4-2c54-4b28-ac17-81df740e8c77",
   "metadata": {},
   "outputs": [
    {
     "name": "stdout",
     "output_type": "stream",
     "text": [
      "Gender: ['Female' 'Male']\n",
      "Gender: 2\n"
     ]
    }
   ],
   "source": [
    "print(f'Gender: {df[\"Gender\"].unique()}')\n",
    "print(f'Gender: {df[\"Gender\"].nunique()}')"
   ]
  },
  {
   "cell_type": "code",
   "execution_count": 19,
   "id": "61782f76-334b-4d3c-9ff0-cf610dfd9f1a",
   "metadata": {},
   "outputs": [
    {
     "name": "stdout",
     "output_type": "stream",
     "text": [
      "Age: [59 29 30 31 32 33 34 35 36 37 38 39 40 41 42 43]\n",
      "Age: 16\n"
     ]
    }
   ],
   "source": [
    "print(f'Age: {df[\"Age\"].unique()}')\n",
    "print(f'Age: {df[\"Age\"].nunique()}')"
   ]
  },
  {
   "cell_type": "code",
   "execution_count": 20,
   "id": "774e4735-1d75-4a01-b242-2ad8c89a56ba",
   "metadata": {},
   "outputs": [
    {
     "name": "stdout",
     "output_type": "stream",
     "text": [
      "Occupation: ['Nurse' 'Doctor' 'Engineer' 'Accountant' 'Scientist' 'Teacher'\n",
      " 'Software Engineer' 'Lawyer' 'Salesperson']\n",
      "Occupation: 9\n"
     ]
    }
   ],
   "source": [
    "print(f'Occupation: {df[\"Occupation\"].unique()}')\n",
    "print(f'Occupation: {df[\"Occupation\"].nunique()}')"
   ]
  },
  {
   "cell_type": "code",
   "execution_count": 21,
   "id": "41d8f3c6-121f-4cd0-91ac-3eeaef99dc68",
   "metadata": {},
   "outputs": [
    {
     "name": "stdout",
     "output_type": "stream",
     "text": [
      "BMI: ['Overweight' 'Normal' 'Normal Weight' 'Obese']\n",
      "BMI: 4\n"
     ]
    }
   ],
   "source": [
    "print(f'BMI: {df[\"BMI\"].unique()}')\n",
    "print(f'BMI: {df[\"BMI\"].nunique()}')"
   ]
  },
  {
   "cell_type": "code",
   "execution_count": 22,
   "id": "09057943-2db6-4bd5-80c3-f3f3eb6d9e08",
   "metadata": {},
   "outputs": [
    {
     "name": "stdout",
     "output_type": "stream",
     "text": [
      "Sleep_disorder: ['Sleep Apnea' 'Nothing' 'Insomnia']\n",
      "Sleep_disorder: 3\n"
     ]
    }
   ],
   "source": [
    "print(f'Sleep_disorder: {df[\"Sleep_disorder\"].unique()}')\n",
    "print(f'Sleep_disorder: {df[\"Sleep_disorder\"].nunique()}')"
   ]
  },
  {
   "cell_type": "markdown",
   "id": "a675a6df-9ce2-45a1-a409-739fb4eafaa3",
   "metadata": {},
   "source": [
    "#### Observation:"
   ]
  },
  {
   "cell_type": "markdown",
   "id": "90c1d0cb-fbfe-4bf9-84e7-59701ecf1556",
   "metadata": {},
   "source": [
    "It has been identified that the range of ages included in the study spans from 29 to 59. The occupations of the users are varied and represented by different areas, including professionals from medicine, engineering, finance, science, education, justice, and sales. Regarding the BMI attribute, there are users with Normal, Obese, and Overweight. And about sleeping disorders, a small number of users suffered either insomnia or sleep apnea."
   ]
  },
  {
   "cell_type": "markdown",
   "id": "fb2f150d-a931-4973-8886-dc391a4ba4f1",
   "metadata": {},
   "source": [
    "### Descriptive statistics"
   ]
  },
  {
   "cell_type": "code",
   "execution_count": 23,
   "id": "e39046a0-2e12-4542-8d0f-1afc1a57d8f2",
   "metadata": {},
   "outputs": [
    {
     "data": {
      "text/html": [
       "<div>\n",
       "<style scoped>\n",
       "    .dataframe tbody tr th:only-of-type {\n",
       "        vertical-align: middle;\n",
       "    }\n",
       "\n",
       "    .dataframe tbody tr th {\n",
       "        vertical-align: top;\n",
       "    }\n",
       "\n",
       "    .dataframe thead th {\n",
       "        text-align: right;\n",
       "    }\n",
       "</style>\n",
       "<table border=\"1\" class=\"dataframe\">\n",
       "  <thead>\n",
       "    <tr style=\"text-align: right;\">\n",
       "      <th></th>\n",
       "      <th>Age</th>\n",
       "      <th>Sleep_duration</th>\n",
       "      <th>Sleeping_quality</th>\n",
       "      <th>Activity_level</th>\n",
       "      <th>Stress_level</th>\n",
       "      <th>Heart_rate</th>\n",
       "      <th>Daily_steps</th>\n",
       "    </tr>\n",
       "  </thead>\n",
       "  <tbody>\n",
       "    <tr>\n",
       "      <th>count</th>\n",
       "      <td>186.000000</td>\n",
       "      <td>186.000000</td>\n",
       "      <td>186.000000</td>\n",
       "      <td>186.000000</td>\n",
       "      <td>186.000000</td>\n",
       "      <td>186.000000</td>\n",
       "      <td>186.000000</td>\n",
       "    </tr>\n",
       "    <tr>\n",
       "      <th>mean</th>\n",
       "      <td>35.672043</td>\n",
       "      <td>7.083333</td>\n",
       "      <td>7.198925</td>\n",
       "      <td>58.016129</td>\n",
       "      <td>5.607527</td>\n",
       "      <td>70.204301</td>\n",
       "      <td>6829.569892</td>\n",
       "    </tr>\n",
       "    <tr>\n",
       "      <th>std</th>\n",
       "      <td>4.436333</td>\n",
       "      <td>0.623323</td>\n",
       "      <td>0.996317</td>\n",
       "      <td>18.096580</td>\n",
       "      <td>1.452583</td>\n",
       "      <td>3.293102</td>\n",
       "      <td>1331.179858</td>\n",
       "    </tr>\n",
       "    <tr>\n",
       "      <th>min</th>\n",
       "      <td>29.000000</td>\n",
       "      <td>5.800000</td>\n",
       "      <td>4.000000</td>\n",
       "      <td>30.000000</td>\n",
       "      <td>3.000000</td>\n",
       "      <td>65.000000</td>\n",
       "      <td>3300.000000</td>\n",
       "    </tr>\n",
       "    <tr>\n",
       "      <th>25%</th>\n",
       "      <td>32.000000</td>\n",
       "      <td>6.600000</td>\n",
       "      <td>6.000000</td>\n",
       "      <td>45.000000</td>\n",
       "      <td>4.000000</td>\n",
       "      <td>68.000000</td>\n",
       "      <td>5500.000000</td>\n",
       "    </tr>\n",
       "    <tr>\n",
       "      <th>50%</th>\n",
       "      <td>36.000000</td>\n",
       "      <td>7.200000</td>\n",
       "      <td>8.000000</td>\n",
       "      <td>60.000000</td>\n",
       "      <td>5.000000</td>\n",
       "      <td>70.000000</td>\n",
       "      <td>7000.000000</td>\n",
       "    </tr>\n",
       "    <tr>\n",
       "      <th>75%</th>\n",
       "      <td>39.000000</td>\n",
       "      <td>7.600000</td>\n",
       "      <td>8.000000</td>\n",
       "      <td>75.000000</td>\n",
       "      <td>6.750000</td>\n",
       "      <td>72.000000</td>\n",
       "      <td>8000.000000</td>\n",
       "    </tr>\n",
       "    <tr>\n",
       "      <th>max</th>\n",
       "      <td>59.000000</td>\n",
       "      <td>8.100000</td>\n",
       "      <td>9.000000</td>\n",
       "      <td>90.000000</td>\n",
       "      <td>8.000000</td>\n",
       "      <td>84.000000</td>\n",
       "      <td>8000.000000</td>\n",
       "    </tr>\n",
       "  </tbody>\n",
       "</table>\n",
       "</div>"
      ],
      "text/plain": [
       "              Age  Sleep_duration  Sleeping_quality  Activity_level  \\\n",
       "count  186.000000      186.000000        186.000000      186.000000   \n",
       "mean    35.672043        7.083333          7.198925       58.016129   \n",
       "std      4.436333        0.623323          0.996317       18.096580   \n",
       "min     29.000000        5.800000          4.000000       30.000000   \n",
       "25%     32.000000        6.600000          6.000000       45.000000   \n",
       "50%     36.000000        7.200000          8.000000       60.000000   \n",
       "75%     39.000000        7.600000          8.000000       75.000000   \n",
       "max     59.000000        8.100000          9.000000       90.000000   \n",
       "\n",
       "       Stress_level  Heart_rate  Daily_steps  \n",
       "count    186.000000  186.000000   186.000000  \n",
       "mean       5.607527   70.204301  6829.569892  \n",
       "std        1.452583    3.293102  1331.179858  \n",
       "min        3.000000   65.000000  3300.000000  \n",
       "25%        4.000000   68.000000  5500.000000  \n",
       "50%        5.000000   70.000000  7000.000000  \n",
       "75%        6.750000   72.000000  8000.000000  \n",
       "max        8.000000   84.000000  8000.000000  "
      ]
     },
     "execution_count": 23,
     "metadata": {},
     "output_type": "execute_result"
    }
   ],
   "source": [
    "df.describe()"
   ]
  },
  {
   "cell_type": "markdown",
   "id": "1b44c42b-fe69-44f6-873b-4f9a8bcdabf4",
   "metadata": {},
   "source": [
    "#### Observations"
   ]
  },
  {
   "cell_type": "markdown",
   "id": "a868ae16-5f7b-4b6e-92f9-faa2167dfa67",
   "metadata": {},
   "source": []
  },
  {
   "cell_type": "code",
   "execution_count": null,
   "id": "0b5fbd3d-3f8a-4dfb-af27-26eff021bfc6",
   "metadata": {},
   "outputs": [],
   "source": []
  },
  {
   "cell_type": "code",
   "execution_count": null,
   "id": "29587274-d4c8-4e29-b328-e6221e7dd252",
   "metadata": {},
   "outputs": [],
   "source": []
  },
  {
   "cell_type": "code",
   "execution_count": null,
   "id": "bc34064d-842f-4161-8827-5a76b3402cb5",
   "metadata": {},
   "outputs": [],
   "source": []
  }
 ],
 "metadata": {
  "kernelspec": {
   "display_name": "Python 3 (ipykernel)",
   "language": "python",
   "name": "python3"
  },
  "language_info": {
   "codemirror_mode": {
    "name": "ipython",
    "version": 3
   },
   "file_extension": ".py",
   "mimetype": "text/x-python",
   "name": "python",
   "nbconvert_exporter": "python",
   "pygments_lexer": "ipython3",
   "version": "3.10.12"
  }
 },
 "nbformat": 4,
 "nbformat_minor": 5
}
